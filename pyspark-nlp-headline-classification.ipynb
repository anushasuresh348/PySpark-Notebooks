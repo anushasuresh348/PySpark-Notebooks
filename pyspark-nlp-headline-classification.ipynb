{
 "cells": [
  {
   "cell_type": "code",
   "execution_count": 1,
   "id": "51b9fbfd",
   "metadata": {
    "_cell_guid": "b1076dfc-b9ad-4769-8c92-a6c4dae69d19",
    "_uuid": "8f2839f25d086af736a60e9eeb907d3b93b6e0e5",
    "execution": {
     "iopub.execute_input": "2022-08-02T10:53:30.030964Z",
     "iopub.status.busy": "2022-08-02T10:53:30.030101Z",
     "iopub.status.idle": "2022-08-02T10:53:30.051252Z",
     "shell.execute_reply": "2022-08-02T10:53:30.049957Z"
    },
    "papermill": {
     "duration": 0.036183,
     "end_time": "2022-08-02T10:53:30.055761",
     "exception": false,
     "start_time": "2022-08-02T10:53:30.019578",
     "status": "completed"
    },
    "tags": []
   },
   "outputs": [
    {
     "name": "stdout",
     "output_type": "stream",
     "text": [
      "/kaggle/input/news-aggregator-dataset/uci-news-aggregator.csv\n"
     ]
    }
   ],
   "source": [
    "# This Python 3 environment comes with many helpful analytics libraries installed\n",
    "# It is defined by the kaggle/python Docker image: https://github.com/kaggle/docker-python\n",
    "# For example, here's several helpful packages to load\n",
    "\n",
    "import numpy as np # linear algebra\n",
    "import pandas as pd # data processing, CSV file I/O (e.g. pd.read_csv)\n",
    "\n",
    "# Input data files are available in the read-only \"../input/\" directory\n",
    "# For example, running this (by clicking run or pressing Shift+Enter) will list all files under the input directory\n",
    "\n",
    "import os\n",
    "for dirname, _, filenames in os.walk('/kaggle/input'):\n",
    "    for filename in filenames:\n",
    "        print(os.path.join(dirname, filename))\n",
    "\n",
    "# You can write up to 20GB to the current directory (/kaggle/working/) that gets preserved as output when you create a version using \"Save & Run All\" \n",
    "# You can also write temporary files to /kaggle/temp/, but they won't be saved outside of the current session"
   ]
  },
  {
   "cell_type": "code",
   "execution_count": 2,
   "id": "d47874ae",
   "metadata": {
    "execution": {
     "iopub.execute_input": "2022-08-02T10:53:30.074198Z",
     "iopub.status.busy": "2022-08-02T10:53:30.073414Z",
     "iopub.status.idle": "2022-08-02T10:54:04.019593Z",
     "shell.execute_reply": "2022-08-02T10:54:04.018111Z"
    },
    "papermill": {
     "duration": 33.95845,
     "end_time": "2022-08-02T10:54:04.022669",
     "exception": false,
     "start_time": "2022-08-02T10:53:30.064219",
     "status": "completed"
    },
    "tags": []
   },
   "outputs": [
    {
     "name": "stdout",
     "output_type": "stream",
     "text": [
      "tar: spark-3.0.1-bin-hadoop3.2.tgz: Cannot open: No such file or directory\r\n",
      "tar: Error is not recoverable: exiting now\r\n",
      "\u001b[33mWARNING: Running pip as the 'root' user can result in broken permissions and conflicting behaviour with the system package manager. It is recommended to use a virtual environment instead: https://pip.pypa.io/warnings/venv\u001b[0m\u001b[33m\r\n",
      "\u001b[0m"
     ]
    }
   ],
   "source": [
    "# Install Pyspark & Setup our Java Environment - Takes less than a minute\n",
    "\n",
    "!apt-get install openjdk-8-jdk-headless -qq > /dev/null\n",
    "!wget -q https://downloads.apache.org/spark/spark-3.0.1/spark-3.0.1-bin-hadoop3.2.tgz\n",
    "!tar -xvf spark-3.0.1-bin-hadoop3.2.tgz\n",
    "!pip install -q findspark"
   ]
  },
  {
   "cell_type": "code",
   "execution_count": 3,
   "id": "e0cf6c37",
   "metadata": {
    "execution": {
     "iopub.execute_input": "2022-08-02T10:54:04.040946Z",
     "iopub.status.busy": "2022-08-02T10:54:04.040514Z",
     "iopub.status.idle": "2022-08-02T10:55:05.660694Z",
     "shell.execute_reply": "2022-08-02T10:55:05.659613Z"
    },
    "papermill": {
     "duration": 61.632954,
     "end_time": "2022-08-02T10:55:05.663359",
     "exception": false,
     "start_time": "2022-08-02T10:54:04.030405",
     "status": "completed"
    },
    "tags": []
   },
   "outputs": [
    {
     "name": "stdout",
     "output_type": "stream",
     "text": [
      "Collecting pyspark\r\n",
      "  Downloading pyspark-3.3.0.tar.gz (281.3 MB)\r\n",
      "\u001b[2K     \u001b[90m━━━━━━━━━━━━━━━━━━━━━━━━━━━━━━━━━━━━━━━\u001b[0m \u001b[32m281.3/281.3 MB\u001b[0m \u001b[31m3.3 MB/s\u001b[0m eta \u001b[36m0:00:00\u001b[0m\r\n",
      "\u001b[?25h  Preparing metadata (setup.py) ... \u001b[?25l-\b \b\\\b \bdone\r\n",
      "\u001b[?25hRequirement already satisfied: py4j==0.10.9.5 in /opt/conda/lib/python3.7/site-packages (from pyspark) (0.10.9.5)\r\n",
      "Building wheels for collected packages: pyspark\r\n",
      "  Building wheel for pyspark (setup.py) ... \u001b[?25l-\b \b\\\b \b|\b \b/\b \b-\b \b\\\b \b|\b \b/\b \b-\b \b\\\b \b|\b \b/\b \b-\b \b\\\b \b|\b \b/\b \b-\b \b\\\b \b|\b \b/\b \b-\b \b\\\b \b|\b \b/\b \b-\b \b\\\b \b|\b \b/\b \b-\b \b\\\b \b|\b \b/\b \b-\b \b\\\b \b|\b \b/\b \b-\b \b\\\b \b|\b \b/\b \b-\b \b\\\b \b|\b \b/\b \b-\b \b\\\b \b|\b \b/\b \b-\b \b\\\b \b|\b \b/\b \b-\b \b\\\b \b|\b \b/\b \b-\b \b\\\b \b|\b \b/\b \b-\b \b\\\b \b|\b \bdone\r\n",
      "\u001b[?25h  Created wheel for pyspark: filename=pyspark-3.3.0-py2.py3-none-any.whl size=281764026 sha256=84e99ebcac810e395e93b5c0c92bf26cf51ead94099e7eed57615a7b4f65e80d\r\n",
      "  Stored in directory: /root/.cache/pip/wheels/7a/8e/1b/f73a52650d2e5f337708d9f6a1750d451a7349a867f928b885\r\n",
      "Successfully built pyspark\r\n",
      "Installing collected packages: pyspark\r\n",
      "Successfully installed pyspark-3.3.0\r\n",
      "\u001b[33mWARNING: Running pip as the 'root' user can result in broken permissions and conflicting behaviour with the system package manager. It is recommended to use a virtual environment instead: https://pip.pypa.io/warnings/venv\u001b[0m\u001b[33m\r\n",
      "\u001b[0m"
     ]
    }
   ],
   "source": [
    "## installing pyspark\n",
    "!pip install pyspark"
   ]
  },
  {
   "cell_type": "code",
   "execution_count": 4,
   "id": "c2f33064",
   "metadata": {
    "execution": {
     "iopub.execute_input": "2022-08-02T10:55:05.735662Z",
     "iopub.status.busy": "2022-08-02T10:55:05.735200Z",
     "iopub.status.idle": "2022-08-02T10:55:11.505764Z",
     "shell.execute_reply": "2022-08-02T10:55:11.504614Z"
    },
    "papermill": {
     "duration": 5.810039,
     "end_time": "2022-08-02T10:55:11.508563",
     "exception": false,
     "start_time": "2022-08-02T10:55:05.698524",
     "status": "completed"
    },
    "tags": []
   },
   "outputs": [
    {
     "name": "stderr",
     "output_type": "stream",
     "text": [
      "Setting default log level to \"WARN\".\n",
      "To adjust logging level use sc.setLogLevel(newLevel). For SparkR, use setLogLevel(newLevel).\n"
     ]
    },
    {
     "name": "stdout",
     "output_type": "stream",
     "text": [
      "22/08/02 10:55:09 WARN NativeCodeLoader: Unable to load native-hadoop library for your platform... using builtin-java classes where applicable\n"
     ]
    }
   ],
   "source": [
    "## creating a spark session\n",
    "import findspark\n",
    "findspark.init()\n",
    "\n",
    "from pyspark.sql import SparkSession\n",
    "spark = SparkSession.builder.master(\"local[*]\").appName(\"Spark-NLP-Headline Classification\").getOrCreate()"
   ]
  },
  {
   "cell_type": "markdown",
   "id": "37ebd1ad",
   "metadata": {
    "papermill": {
     "duration": 0.034535,
     "end_time": "2022-08-02T10:55:11.577958",
     "exception": false,
     "start_time": "2022-08-02T10:55:11.543423",
     "status": "completed"
    },
    "tags": []
   },
   "source": [
    "# **Reading the dataset**"
   ]
  },
  {
   "cell_type": "code",
   "execution_count": 5,
   "id": "d98c941e",
   "metadata": {
    "execution": {
     "iopub.execute_input": "2022-08-02T10:55:11.651772Z",
     "iopub.status.busy": "2022-08-02T10:55:11.651300Z",
     "iopub.status.idle": "2022-08-02T10:55:20.043146Z",
     "shell.execute_reply": "2022-08-02T10:55:20.042202Z"
    },
    "papermill": {
     "duration": 8.432246,
     "end_time": "2022-08-02T10:55:20.046192",
     "exception": false,
     "start_time": "2022-08-02T10:55:11.613946",
     "status": "completed"
    },
    "tags": []
   },
   "outputs": [
    {
     "name": "stderr",
     "output_type": "stream",
     "text": [
      "                                                                                \r"
     ]
    }
   ],
   "source": [
    "\n",
    "df = spark.read.csv('/kaggle/input/news-aggregator-dataset/uci-news-aggregator.csv', header = True, inferSchema=True)"
   ]
  },
  {
   "cell_type": "code",
   "execution_count": 6,
   "id": "40803f81",
   "metadata": {
    "execution": {
     "iopub.execute_input": "2022-08-02T10:55:20.121062Z",
     "iopub.status.busy": "2022-08-02T10:55:20.120344Z",
     "iopub.status.idle": "2022-08-02T10:55:20.519011Z",
     "shell.execute_reply": "2022-08-02T10:55:20.517659Z"
    },
    "papermill": {
     "duration": 0.440359,
     "end_time": "2022-08-02T10:55:20.523393",
     "exception": false,
     "start_time": "2022-08-02T10:55:20.083034",
     "status": "completed"
    },
    "tags": []
   },
   "outputs": [
    {
     "name": "stdout",
     "output_type": "stream",
     "text": [
      "+---+--------------------+--------------------+--------------------+--------+--------------------+--------------------+-------------+\n",
      "| ID|               TITLE|                 URL|           PUBLISHER|CATEGORY|               STORY|            HOSTNAME|    TIMESTAMP|\n",
      "+---+--------------------+--------------------+--------------------+--------+--------------------+--------------------+-------------+\n",
      "|  1|Fed official says...|http://www.latime...|   Los Angeles Times|       b|ddUyU0VZz0BRneMio...|     www.latimes.com|1394470370698|\n",
      "|  2|Fed's Charles Plo...|http://www.livemi...|            Livemint|       b|ddUyU0VZz0BRneMio...|    www.livemint.com|1394470371207|\n",
      "|  3|US open: Stocks f...|http://www.ifamag...|        IFA Magazine|       b|ddUyU0VZz0BRneMio...| www.ifamagazine.com|1394470371550|\n",
      "|  4|Fed risks falling...|http://www.ifamag...|        IFA Magazine|       b|ddUyU0VZz0BRneMio...| www.ifamagazine.com|1394470371793|\n",
      "|  5|Fed's Plosser: Na...|http://www.moneyn...|           Moneynews|       b|ddUyU0VZz0BRneMio...|   www.moneynews.com|1394470372027|\n",
      "|  6|Plosser: Fed May ...|http://www.nasdaq...|              NASDAQ|       b|ddUyU0VZz0BRneMio...|      www.nasdaq.com|1394470372212|\n",
      "|  7|Fed's Plosser: Ta...|http://www.market...|         MarketWatch|       b|ddUyU0VZz0BRneMio...| www.marketwatch.com|1394470372405|\n",
      "|  8|Fed's Plosser exp...|http://www.fxstre...|        FXstreet.com|       b|ddUyU0VZz0BRneMio...|    www.fxstreet.com|1394470372615|\n",
      "|  9|US jobs growth la...|http://economicti...|      Economic Times|       b|ddUyU0VZz0BRneMio...|economictimes.ind...|1394470372792|\n",
      "| 10|ECB unlikely to e...|http://www.iii.co...|Interactive Investor|       b|dPhGU51DcrolUIMxb...|       www.iii.co.uk|1394470501265|\n",
      "| 11|ECB unlikely to e...|http://in.reuters...|       Reuters India|       b|dPhGU51DcrolUIMxb...|      in.reuters.com|1394470501410|\n",
      "| 12|EU's half-baked b...|http://blogs.reut...| Reuters UK \\(blog\\)|       b|dPhGU51DcrolUIMxb...|   blogs.reuters.com|1394470501587|\n",
      "| 13|Europe reaches cr...|http://in.reuters...|             Reuters|       b|dPhGU51DcrolUIMxb...|      in.reuters.com|1394470501755|\n",
      "| 14|ECB FOCUS-Stronge...|http://in.reuters...|             Reuters|       b|dPhGU51DcrolUIMxb...|      in.reuters.com|1394470501948|\n",
      "| 15|EU aims for deal ...|http://main.omano...| Oman Daily Observer|       b|dPhGU51DcrolUIMxb...|main.omanobserver.om|1394470502141|\n",
      "| 16|Forex - Pound dro...|http://www.nasdaq...|              NASDAQ|       b|dPhGU51DcrolUIMxb...|      www.nasdaq.com|1394470502316|\n",
      "| 17|Noyer Says Strong...|http://www.sfgate...|San Francisco Chr...|       b|dPhGU51DcrolUIMxb...|      www.sfgate.com|1394470502543|\n",
      "| 18|EU Week Ahead Mar...|http://blogs.wsj....|Wall Street Journ...|       b|dPhGU51DcrolUIMxb...|       blogs.wsj.com|1394470502744|\n",
      "| 19|ECB member Noyer ...|http://www.ifamag...|        IFA Magazine|       b|dPhGU51DcrolUIMxb...| www.ifamagazine.com|1394470502946|\n",
      "| 20|Euro Anxieties Wa...|http://www.busine...|        Businessweek|       b|dPhGU51DcrolUIMxb...|www.businessweek.com|1394470503148|\n",
      "+---+--------------------+--------------------+--------------------+--------+--------------------+--------------------+-------------+\n",
      "only showing top 20 rows\n",
      "\n"
     ]
    }
   ],
   "source": [
    "df.show()"
   ]
  },
  {
   "cell_type": "code",
   "execution_count": 7,
   "id": "924fc100",
   "metadata": {
    "execution": {
     "iopub.execute_input": "2022-08-02T10:55:20.634700Z",
     "iopub.status.busy": "2022-08-02T10:55:20.634163Z",
     "iopub.status.idle": "2022-08-02T10:55:21.807935Z",
     "shell.execute_reply": "2022-08-02T10:55:21.806984Z"
    },
    "papermill": {
     "duration": 1.231838,
     "end_time": "2022-08-02T10:55:21.810790",
     "exception": false,
     "start_time": "2022-08-02T10:55:20.578952",
     "status": "completed"
    },
    "tags": []
   },
   "outputs": [
    {
     "data": {
      "text/plain": [
       "422937"
      ]
     },
     "execution_count": 7,
     "metadata": {},
     "output_type": "execute_result"
    }
   ],
   "source": [
    "df.count()"
   ]
  },
  {
   "cell_type": "code",
   "execution_count": 8,
   "id": "3b854f2c",
   "metadata": {
    "execution": {
     "iopub.execute_input": "2022-08-02T10:55:21.886824Z",
     "iopub.status.busy": "2022-08-02T10:55:21.885228Z",
     "iopub.status.idle": "2022-08-02T10:55:22.112920Z",
     "shell.execute_reply": "2022-08-02T10:55:22.110744Z"
    },
    "papermill": {
     "duration": 0.271135,
     "end_time": "2022-08-02T10:55:22.118574",
     "exception": false,
     "start_time": "2022-08-02T10:55:21.847439",
     "status": "completed"
    },
    "tags": []
   },
   "outputs": [
    {
     "name": "stdout",
     "output_type": "stream",
     "text": [
      "+--------------------+--------+\n",
      "|               TITLE|CATEGORY|\n",
      "+--------------------+--------+\n",
      "|Fed official says...|       b|\n",
      "|Fed's Charles Plo...|       b|\n",
      "|US open: Stocks f...|       b|\n",
      "|Fed risks falling...|       b|\n",
      "|Fed's Plosser: Na...|       b|\n",
      "|Plosser: Fed May ...|       b|\n",
      "|Fed's Plosser: Ta...|       b|\n",
      "|Fed's Plosser exp...|       b|\n",
      "|US jobs growth la...|       b|\n",
      "|ECB unlikely to e...|       b|\n",
      "|ECB unlikely to e...|       b|\n",
      "|EU's half-baked b...|       b|\n",
      "|Europe reaches cr...|       b|\n",
      "|ECB FOCUS-Stronge...|       b|\n",
      "|EU aims for deal ...|       b|\n",
      "|Forex - Pound dro...|       b|\n",
      "|Noyer Says Strong...|       b|\n",
      "|EU Week Ahead Mar...|       b|\n",
      "|ECB member Noyer ...|       b|\n",
      "|Euro Anxieties Wa...|       b|\n",
      "+--------------------+--------+\n",
      "only showing top 20 rows\n",
      "\n"
     ]
    }
   ],
   "source": [
    "title_category = df.select(\"TITLE\",\"CATEGORY\")\n",
    "title_category.show()"
   ]
  },
  {
   "cell_type": "markdown",
   "id": "cf6c8982",
   "metadata": {
    "papermill": {
     "duration": 0.036467,
     "end_time": "2022-08-02T10:55:22.192607",
     "exception": false,
     "start_time": "2022-08-02T10:55:22.156140",
     "status": "completed"
    },
    "tags": []
   },
   "source": [
    "# **Missing Value Treatment**"
   ]
  },
  {
   "cell_type": "code",
   "execution_count": 9,
   "id": "7215d4ff",
   "metadata": {
    "execution": {
     "iopub.execute_input": "2022-08-02T10:55:22.266913Z",
     "iopub.status.busy": "2022-08-02T10:55:22.266507Z",
     "iopub.status.idle": "2022-08-02T10:55:22.273628Z",
     "shell.execute_reply": "2022-08-02T10:55:22.272224Z"
    },
    "papermill": {
     "duration": 0.047657,
     "end_time": "2022-08-02T10:55:22.276128",
     "exception": false,
     "start_time": "2022-08-02T10:55:22.228471",
     "status": "completed"
    },
    "tags": []
   },
   "outputs": [],
   "source": [
    "#Check for null values in above columns\n",
    "from pyspark.sql.functions import col\n",
    "def null_value_count(df):\n",
    "  null_columns_counts = []\n",
    "  numRows = df.count()\n",
    "  for k in df.columns:\n",
    "    nullRows = df.where(col(k).isNull()).count()\n",
    "    if(nullRows > 0):\n",
    "      temp = k,nullRows\n",
    "      null_columns_counts.append(temp)\n",
    "  return(null_columns_counts)"
   ]
  },
  {
   "cell_type": "code",
   "execution_count": 10,
   "id": "a669565c",
   "metadata": {
    "execution": {
     "iopub.execute_input": "2022-08-02T10:55:22.349722Z",
     "iopub.status.busy": "2022-08-02T10:55:22.349277Z",
     "iopub.status.idle": "2022-08-02T10:55:24.989265Z",
     "shell.execute_reply": "2022-08-02T10:55:24.988028Z"
    },
    "papermill": {
     "duration": 2.681067,
     "end_time": "2022-08-02T10:55:24.992930",
     "exception": false,
     "start_time": "2022-08-02T10:55:22.311863",
     "status": "completed"
    },
    "tags": []
   },
   "outputs": [
    {
     "name": "stderr",
     "output_type": "stream",
     "text": [
      "                                                                                \r"
     ]
    }
   ],
   "source": [
    "null_columns_count_list = null_value_count(title_category)"
   ]
  },
  {
   "cell_type": "code",
   "execution_count": 11,
   "id": "3530d25f",
   "metadata": {
    "execution": {
     "iopub.execute_input": "2022-08-02T10:55:25.104289Z",
     "iopub.status.busy": "2022-08-02T10:55:25.103789Z",
     "iopub.status.idle": "2022-08-02T10:55:26.267838Z",
     "shell.execute_reply": "2022-08-02T10:55:26.265134Z"
    },
    "papermill": {
     "duration": 1.223964,
     "end_time": "2022-08-02T10:55:26.271169",
     "exception": false,
     "start_time": "2022-08-02T10:55:25.047205",
     "status": "completed"
    },
    "tags": []
   },
   "outputs": [
    {
     "name": "stderr",
     "output_type": "stream",
     "text": [
      "[Stage 16:>                                                         (0 + 1) / 1]\r"
     ]
    },
    {
     "name": "stdout",
     "output_type": "stream",
     "text": [
      "+----------------------+-----------------+\n",
      "|Column_With_Null_Value|Null_Values_Count|\n",
      "+----------------------+-----------------+\n",
      "|                 TITLE|              389|\n",
      "|              CATEGORY|              516|\n",
      "+----------------------+-----------------+\n",
      "\n"
     ]
    },
    {
     "name": "stderr",
     "output_type": "stream",
     "text": [
      "                                                                                \r"
     ]
    }
   ],
   "source": [
    "spark.createDataFrame(null_columns_count_list, ['Column_With_Null_Value', 'Null_Values_Count']).show()"
   ]
  },
  {
   "cell_type": "code",
   "execution_count": 12,
   "id": "cec100be",
   "metadata": {
    "execution": {
     "iopub.execute_input": "2022-08-02T10:55:26.346775Z",
     "iopub.status.busy": "2022-08-02T10:55:26.346335Z",
     "iopub.status.idle": "2022-08-02T10:55:26.364577Z",
     "shell.execute_reply": "2022-08-02T10:55:26.363623Z"
    },
    "papermill": {
     "duration": 0.05885,
     "end_time": "2022-08-02T10:55:26.367405",
     "exception": false,
     "start_time": "2022-08-02T10:55:26.308555",
     "status": "completed"
    },
    "tags": []
   },
   "outputs": [],
   "source": [
    "#dropping all the null values\n",
    "title_category = title_category.dropna()"
   ]
  },
  {
   "cell_type": "code",
   "execution_count": 13,
   "id": "b6be158a",
   "metadata": {
    "execution": {
     "iopub.execute_input": "2022-08-02T10:55:26.443783Z",
     "iopub.status.busy": "2022-08-02T10:55:26.442498Z",
     "iopub.status.idle": "2022-08-02T10:55:27.536581Z",
     "shell.execute_reply": "2022-08-02T10:55:27.535475Z"
    },
    "papermill": {
     "duration": 1.13727,
     "end_time": "2022-08-02T10:55:27.541558",
     "exception": false,
     "start_time": "2022-08-02T10:55:26.404288",
     "status": "completed"
    },
    "tags": []
   },
   "outputs": [
    {
     "name": "stderr",
     "output_type": "stream",
     "text": [
      "                                                                                \r"
     ]
    },
    {
     "data": {
      "text/plain": [
       "422421"
      ]
     },
     "execution_count": 13,
     "metadata": {},
     "output_type": "execute_result"
    }
   ],
   "source": [
    "title_category.count()"
   ]
  },
  {
   "cell_type": "code",
   "execution_count": 14,
   "id": "807ee7f9",
   "metadata": {
    "execution": {
     "iopub.execute_input": "2022-08-02T10:55:27.653148Z",
     "iopub.status.busy": "2022-08-02T10:55:27.652637Z",
     "iopub.status.idle": "2022-08-02T10:55:27.796749Z",
     "shell.execute_reply": "2022-08-02T10:55:27.794502Z"
    },
    "papermill": {
     "duration": 0.203218,
     "end_time": "2022-08-02T10:55:27.800339",
     "exception": false,
     "start_time": "2022-08-02T10:55:27.597121",
     "status": "completed"
    },
    "tags": []
   },
   "outputs": [
    {
     "name": "stdout",
     "output_type": "stream",
     "text": [
      "+---------------------------------------------------------------------------+--------+\n",
      "|TITLE                                                                      |CATEGORY|\n",
      "+---------------------------------------------------------------------------+--------+\n",
      "|Fed official says weak data caused by weather, should not slow taper       |b       |\n",
      "|Fed's Charles Plosser sees high bar for change in pace of tapering         |b       |\n",
      "|US open: Stocks fall after Fed official hints at accelerated tapering      |b       |\n",
      "|Fed risks falling 'behind the curve', Charles Plosser says                 |b       |\n",
      "|Fed's Plosser: Nasty Weather Has Curbed Job Growth                         |b       |\n",
      "|Plosser: Fed May Have to Accelerate Tapering Pace                          |b       |\n",
      "|Fed's Plosser: Taper pace may be too slow                                  |b       |\n",
      "|Fed's Plosser expects US unemployment to fall to 6.2% by the end of 2014   |b       |\n",
      "|US jobs growth last month hit by weather:Fed President Charles Plosser     |b       |\n",
      "|ECB unlikely to end sterilisation of SMP purchases - traders               |b       |\n",
      "|ECB unlikely to end sterilization of SMP purchases: traders                |b       |\n",
      "|EU's half-baked bank union could work                                      |b       |\n",
      "|Europe reaches crunch point on banking union                               |b       |\n",
      "|ECB FOCUS-Stronger euro drowns out ECB's message to keep rates low for  ...|b       |\n",
      "|EU aims for deal on tackling failing banks                                 |b       |\n",
      "|Forex - Pound drops to one-month lows against euro                         |b       |\n",
      "|Noyer Says Strong Euro Creates Unwarranted Economic Pressure               |b       |\n",
      "|EU Week Ahead March 10-14: Bank Resolution, Transparency, Ukraine          |b       |\n",
      "|ECB member Noyer is 'very open to all kinds of tools'                      |b       |\n",
      "|Euro Anxieties Wane as Bunds Top Treasuries, Spain Debt Rallies            |b       |\n",
      "+---------------------------------------------------------------------------+--------+\n",
      "only showing top 20 rows\n",
      "\n"
     ]
    }
   ],
   "source": [
    "title_category.show(truncate=False)"
   ]
  },
  {
   "cell_type": "code",
   "execution_count": 15,
   "id": "2294aa54",
   "metadata": {
    "execution": {
     "iopub.execute_input": "2022-08-02T10:55:27.903801Z",
     "iopub.status.busy": "2022-08-02T10:55:27.902721Z",
     "iopub.status.idle": "2022-08-02T10:55:29.476791Z",
     "shell.execute_reply": "2022-08-02T10:55:29.475169Z"
    },
    "papermill": {
     "duration": 1.626239,
     "end_time": "2022-08-02T10:55:29.480900",
     "exception": false,
     "start_time": "2022-08-02T10:55:27.854661",
     "status": "completed"
    },
    "tags": []
   },
   "outputs": [
    {
     "name": "stderr",
     "output_type": "stream",
     "text": [
      "                                                                                \r"
     ]
    },
    {
     "data": {
      "text/plain": [
       "265"
      ]
     },
     "execution_count": 15,
     "metadata": {},
     "output_type": "execute_result"
    }
   ],
   "source": [
    "title_category.select(\"Category\").distinct().count()"
   ]
  },
  {
   "cell_type": "markdown",
   "id": "3be8973d",
   "metadata": {
    "papermill": {
     "duration": 0.041018,
     "end_time": "2022-08-02T10:55:29.578637",
     "exception": false,
     "start_time": "2022-08-02T10:55:29.537619",
     "status": "completed"
    },
    "tags": []
   },
   "source": [
    "# **Top 20 news Categories**"
   ]
  },
  {
   "cell_type": "code",
   "execution_count": 16,
   "id": "fce7714c",
   "metadata": {
    "execution": {
     "iopub.execute_input": "2022-08-02T10:55:29.655172Z",
     "iopub.status.busy": "2022-08-02T10:55:29.654777Z",
     "iopub.status.idle": "2022-08-02T10:55:31.147100Z",
     "shell.execute_reply": "2022-08-02T10:55:31.145011Z"
    },
    "papermill": {
     "duration": 1.535283,
     "end_time": "2022-08-02T10:55:31.151009",
     "exception": false,
     "start_time": "2022-08-02T10:55:29.615726",
     "status": "completed"
    },
    "tags": []
   },
   "outputs": [
    {
     "name": "stderr",
     "output_type": "stream",
     "text": [
      "[Stage 28:>                                                         (0 + 4) / 4]\r"
     ]
    },
    {
     "name": "stdout",
     "output_type": "stream",
     "text": [
      "+--------------------+------+\n",
      "|Category            |count |\n",
      "+--------------------+------+\n",
      "|e                   |152127|\n",
      "|b                   |115935|\n",
      "|t                   |108237|\n",
      "|m                   |45616 |\n",
      "|Us Magazine         |31    |\n",
      "|GossipCop           |20    |\n",
      "|Contactmusic.com    |20    |\n",
      "|Complex.com         |12    |\n",
      "|CBS News            |12    |\n",
      "|The Hollywood Gossip|11    |\n",
      "|HipHopDX            |11    |\n",
      "|HeadlinePlanet.com  |10    |\n",
      "|We Got This Covered |10    |\n",
      "|Gamepur             |8     |\n",
      "|WorstPreviews.com   |7     |\n",
      "|Wetpaint            |7     |\n",
      "|TooFab.com          |7     |\n",
      "|Consequence of Sound|7     |\n",
      "|The Escapist        |6     |\n",
      "|Reality TV World    |5     |\n",
      "+--------------------+------+\n",
      "only showing top 20 rows\n",
      "\n"
     ]
    },
    {
     "name": "stderr",
     "output_type": "stream",
     "text": [
      "                                                                                \r"
     ]
    }
   ],
   "source": [
    "title_category.groupBy(\"Category\").count().orderBy(col(\"count\").desc()).show(truncate=False)"
   ]
  },
  {
   "cell_type": "markdown",
   "id": "0ec2613d",
   "metadata": {
    "papermill": {
     "duration": 0.037601,
     "end_time": "2022-08-02T10:55:31.233205",
     "exception": false,
     "start_time": "2022-08-02T10:55:31.195604",
     "status": "completed"
    },
    "tags": []
   },
   "source": [
    "# **Top 20 News titles**"
   ]
  },
  {
   "cell_type": "code",
   "execution_count": 17,
   "id": "3095165c",
   "metadata": {
    "execution": {
     "iopub.execute_input": "2022-08-02T10:55:31.310288Z",
     "iopub.status.busy": "2022-08-02T10:55:31.308961Z",
     "iopub.status.idle": "2022-08-02T10:55:33.883123Z",
     "shell.execute_reply": "2022-08-02T10:55:33.881895Z"
    },
    "papermill": {
     "duration": 2.617084,
     "end_time": "2022-08-02T10:55:33.887265",
     "exception": false,
     "start_time": "2022-08-02T10:55:31.270181",
     "status": "completed"
    },
    "tags": []
   },
   "outputs": [
    {
     "name": "stderr",
     "output_type": "stream",
     "text": [
      "[Stage 31:==============>                                           (1 + 3) / 4]\r"
     ]
    },
    {
     "name": "stdout",
     "output_type": "stream",
     "text": [
      "+----------------------------------------------------------------------------------+-----+\n",
      "|TITLE                                                                             |count|\n",
      "+----------------------------------------------------------------------------------+-----+\n",
      "|The article requested cannot be found! Please refresh your browser or go back  ...|145  |\n",
      "|Posted by Parvez Jabri                                                            |59   |\n",
      "|Business Highlights                                                               |59   |\n",
      "|Posted by Imaduddin                                                               |53   |\n",
      "|Posted by Shoaib-ur-Rehman Siddiqui                                               |52   |\n",
      "|(click the phrases to see a list)                                                 |51   |\n",
      "|Business Wire                                                                     |41   |\n",
      "|PR Newswire                                                                       |38   |\n",
      "|Posted by Muhammad Iqbal                                                          |35   |\n",
      "|Get the Most Popular Beauty World News Stories in a Weekly Newsletter             |34   |\n",
      "|Change text size for the story                                                    |34   |\n",
      "|Business briefs                                                                   |33   |\n",
      "|International markets roundup                                                     |33   |\n",
      "|India Morning Call-Global Markets                                                 |27   |\n",
      "|10 Things to Know for Today                                                       |22   |\n",
      "|Breaking news                                                                     |21   |\n",
      "|Perez Recommends                                                                  |19   |\n",
      "|From ColumbusAlive.com                                                            |18   |\n",
      "|Texas Weekly Gas Price Update and Outlook                                         |18   |\n",
      "|The Daily Dish                                                                    |17   |\n",
      "+----------------------------------------------------------------------------------+-----+\n",
      "only showing top 20 rows\n",
      "\n"
     ]
    },
    {
     "name": "stderr",
     "output_type": "stream",
     "text": [
      "                                                                                \r"
     ]
    }
   ],
   "source": [
    "title_category.groupBy(\"TITLE\").count().orderBy(col(\"count\").desc()).show(truncate=False)"
   ]
  },
  {
   "cell_type": "markdown",
   "id": "53f141b0",
   "metadata": {
    "papermill": {
     "duration": 0.038394,
     "end_time": "2022-08-02T10:55:33.962972",
     "exception": false,
     "start_time": "2022-08-02T10:55:33.924578",
     "status": "completed"
    },
    "tags": []
   },
   "source": [
    "# **Data Cleaning**"
   ]
  },
  {
   "cell_type": "code",
   "execution_count": 18,
   "id": "c8812c66",
   "metadata": {
    "execution": {
     "iopub.execute_input": "2022-08-02T10:55:34.040354Z",
     "iopub.status.busy": "2022-08-02T10:55:34.039634Z",
     "iopub.status.idle": "2022-08-02T10:55:34.244241Z",
     "shell.execute_reply": "2022-08-02T10:55:34.243025Z"
    },
    "papermill": {
     "duration": 0.254566,
     "end_time": "2022-08-02T10:55:34.255265",
     "exception": false,
     "start_time": "2022-08-02T10:55:34.000699",
     "status": "completed"
    },
    "tags": []
   },
   "outputs": [
    {
     "name": "stdout",
     "output_type": "stream",
     "text": [
      "+---------------------------------------------------------------------------+---------------------------------------------------------------------------+\n",
      "|TITLE                                                                      |only_str                                                                   |\n",
      "+---------------------------------------------------------------------------+---------------------------------------------------------------------------+\n",
      "|Fed official says weak data caused by weather, should not slow taper       |Fed official says weak data caused by weather, should not slow taper       |\n",
      "|Fed's Charles Plosser sees high bar for change in pace of tapering         |Fed's Charles Plosser sees high bar for change in pace of tapering         |\n",
      "|US open: Stocks fall after Fed official hints at accelerated tapering      |US open: Stocks fall after Fed official hints at accelerated tapering      |\n",
      "|Fed risks falling 'behind the curve', Charles Plosser says                 |Fed risks falling 'behind the curve', Charles Plosser says                 |\n",
      "|Fed's Plosser: Nasty Weather Has Curbed Job Growth                         |Fed's Plosser: Nasty Weather Has Curbed Job Growth                         |\n",
      "|Plosser: Fed May Have to Accelerate Tapering Pace                          |Plosser: Fed May Have to Accelerate Tapering Pace                          |\n",
      "|Fed's Plosser: Taper pace may be too slow                                  |Fed's Plosser: Taper pace may be too slow                                  |\n",
      "|Fed's Plosser expects US unemployment to fall to 6.2% by the end of 2014   |Fed's Plosser expects US unemployment to fall to .% by the end of          |\n",
      "|US jobs growth last month hit by weather:Fed President Charles Plosser     |US jobs growth last month hit by weather:Fed President Charles Plosser     |\n",
      "|ECB unlikely to end sterilisation of SMP purchases - traders               |ECB unlikely to end sterilisation of SMP purchases - traders               |\n",
      "|ECB unlikely to end sterilization of SMP purchases: traders                |ECB unlikely to end sterilization of SMP purchases: traders                |\n",
      "|EU's half-baked bank union could work                                      |EU's half-baked bank union could work                                      |\n",
      "|Europe reaches crunch point on banking union                               |Europe reaches crunch point on banking union                               |\n",
      "|ECB FOCUS-Stronger euro drowns out ECB's message to keep rates low for  ...|ECB FOCUS-Stronger euro drowns out ECB's message to keep rates low for  ...|\n",
      "|EU aims for deal on tackling failing banks                                 |EU aims for deal on tackling failing banks                                 |\n",
      "|Forex - Pound drops to one-month lows against euro                         |Forex - Pound drops to one-month lows against euro                         |\n",
      "|Noyer Says Strong Euro Creates Unwarranted Economic Pressure               |Noyer Says Strong Euro Creates Unwarranted Economic Pressure               |\n",
      "|EU Week Ahead March 10-14: Bank Resolution, Transparency, Ukraine          |EU Week Ahead March -: Bank Resolution, Transparency, Ukraine              |\n",
      "|ECB member Noyer is 'very open to all kinds of tools'                      |ECB member Noyer is 'very open to all kinds of tools'                      |\n",
      "|Euro Anxieties Wane as Bunds Top Treasuries, Spain Debt Rallies            |Euro Anxieties Wane as Bunds Top Treasuries, Spain Debt Rallies            |\n",
      "+---------------------------------------------------------------------------+---------------------------------------------------------------------------+\n",
      "only showing top 20 rows\n",
      "\n"
     ]
    }
   ],
   "source": [
    "# Removing numbers from titles\n",
    "from pyspark.sql.functions import regexp_replace\n",
    "title_category = title_category.withColumn(\"only_str\",regexp_replace(col('TITLE'), '\\d+', ''))\n",
    "title_category.select(\"TITLE\",\"only_str\").show(truncate=False)"
   ]
  },
  {
   "cell_type": "code",
   "execution_count": 19,
   "id": "3719cf74",
   "metadata": {
    "execution": {
     "iopub.execute_input": "2022-08-02T10:55:34.380900Z",
     "iopub.status.busy": "2022-08-02T10:55:34.380327Z",
     "iopub.status.idle": "2022-08-02T10:55:35.378751Z",
     "shell.execute_reply": "2022-08-02T10:55:35.377214Z"
    },
    "papermill": {
     "duration": 1.056548,
     "end_time": "2022-08-02T10:55:35.383047",
     "exception": false,
     "start_time": "2022-08-02T10:55:34.326499",
     "status": "completed"
    },
    "tags": []
   },
   "outputs": [
    {
     "name": "stdout",
     "output_type": "stream",
     "text": [
      "+--------------------+--------+--------------------+--------------------+\n",
      "|               TITLE|CATEGORY|            only_str|               words|\n",
      "+--------------------+--------+--------------------+--------------------+\n",
      "|Fed official says...|       b|Fed official says...|[fed, official, s...|\n",
      "|Fed's Charles Plo...|       b|Fed's Charles Plo...|[fed, s, charles,...|\n",
      "|US open: Stocks f...|       b|US open: Stocks f...|[us, open, stocks...|\n",
      "|Fed risks falling...|       b|Fed risks falling...|[fed, risks, fall...|\n",
      "|Fed's Plosser: Na...|       b|Fed's Plosser: Na...|[fed, s, plosser,...|\n",
      "|Plosser: Fed May ...|       b|Plosser: Fed May ...|[plosser, fed, ma...|\n",
      "|Fed's Plosser: Ta...|       b|Fed's Plosser: Ta...|[fed, s, plosser,...|\n",
      "|Fed's Plosser exp...|       b|Fed's Plosser exp...|[fed, s, plosser,...|\n",
      "|US jobs growth la...|       b|US jobs growth la...|[us, jobs, growth...|\n",
      "|ECB unlikely to e...|       b|ECB unlikely to e...|[ecb, unlikely, t...|\n",
      "|ECB unlikely to e...|       b|ECB unlikely to e...|[ecb, unlikely, t...|\n",
      "|EU's half-baked b...|       b|EU's half-baked b...|[eu, s, half, bak...|\n",
      "|Europe reaches cr...|       b|Europe reaches cr...|[europe, reaches,...|\n",
      "|ECB FOCUS-Stronge...|       b|ECB FOCUS-Stronge...|[ecb, focus, stro...|\n",
      "|EU aims for deal ...|       b|EU aims for deal ...|[eu, aims, for, d...|\n",
      "|Forex - Pound dro...|       b|Forex - Pound dro...|[forex, pound, dr...|\n",
      "|Noyer Says Strong...|       b|Noyer Says Strong...|[noyer, says, str...|\n",
      "|EU Week Ahead Mar...|       b|EU Week Ahead Mar...|[eu, week, ahead,...|\n",
      "|ECB member Noyer ...|       b|ECB member Noyer ...|[ecb, member, noy...|\n",
      "|Euro Anxieties Wa...|       b|Euro Anxieties Wa...|[euro, anxieties,...|\n",
      "+--------------------+--------+--------------------+--------------------+\n",
      "only showing top 20 rows\n",
      "\n"
     ]
    }
   ],
   "source": [
    "#Splitting text into words\n",
    "from pyspark.ml.feature import RegexTokenizer\n",
    "regex_tokenizer = RegexTokenizer(inputCol=\"only_str\", outputCol=\"words\", pattern=\"\\\\W\")\n",
    "raw_words = regex_tokenizer.transform(title_category)\n",
    "raw_words.show()"
   ]
  },
  {
   "cell_type": "code",
   "execution_count": 20,
   "id": "a19598f4",
   "metadata": {
    "execution": {
     "iopub.execute_input": "2022-08-02T10:55:35.488178Z",
     "iopub.status.busy": "2022-08-02T10:55:35.487776Z",
     "iopub.status.idle": "2022-08-02T10:55:36.296204Z",
     "shell.execute_reply": "2022-08-02T10:55:36.294604Z"
    },
    "papermill": {
     "duration": 0.854238,
     "end_time": "2022-08-02T10:55:36.300832",
     "exception": false,
     "start_time": "2022-08-02T10:55:35.446594",
     "status": "completed"
    },
    "tags": []
   },
   "outputs": [
    {
     "name": "stdout",
     "output_type": "stream",
     "text": [
      "+-------------------------------------------------------------------------------------+-------------------------------------------------------------------------------+\n",
      "|words                                                                                |filtered                                                                       |\n",
      "+-------------------------------------------------------------------------------------+-------------------------------------------------------------------------------+\n",
      "|[fed, official, says, weak, data, caused, by, weather, should, not, slow, taper]     |[fed, official, says, weak, data, caused, weather, slow, taper]                |\n",
      "|[fed, s, charles, plosser, sees, high, bar, for, change, in, pace, of, tapering]     |[fed, charles, plosser, sees, high, bar, change, pace, tapering]               |\n",
      "|[us, open, stocks, fall, after, fed, official, hints, at, accelerated, tapering]     |[us, open, stocks, fall, fed, official, hints, accelerated, tapering]          |\n",
      "|[fed, risks, falling, behind, the, curve, charles, plosser, says]                    |[fed, risks, falling, behind, curve, charles, plosser, says]                   |\n",
      "|[fed, s, plosser, nasty, weather, has, curbed, job, growth]                          |[fed, plosser, nasty, weather, curbed, job, growth]                            |\n",
      "|[plosser, fed, may, have, to, accelerate, tapering, pace]                            |[plosser, fed, may, accelerate, tapering, pace]                                |\n",
      "|[fed, s, plosser, taper, pace, may, be, too, slow]                                   |[fed, plosser, taper, pace, may, slow]                                         |\n",
      "|[fed, s, plosser, expects, us, unemployment, to, fall, to, by, the, end, of]         |[fed, plosser, expects, us, unemployment, fall, end]                           |\n",
      "|[us, jobs, growth, last, month, hit, by, weather, fed, president, charles, plosser]  |[us, jobs, growth, last, month, hit, weather, fed, president, charles, plosser]|\n",
      "|[ecb, unlikely, to, end, sterilisation, of, smp, purchases, traders]                 |[ecb, unlikely, end, sterilisation, smp, purchases, traders]                   |\n",
      "|[ecb, unlikely, to, end, sterilization, of, smp, purchases, traders]                 |[ecb, unlikely, end, sterilization, smp, purchases, traders]                   |\n",
      "|[eu, s, half, baked, bank, union, could, work]                                       |[eu, half, baked, bank, union, work]                                           |\n",
      "|[europe, reaches, crunch, point, on, banking, union]                                 |[europe, reaches, crunch, point, banking, union]                               |\n",
      "|[ecb, focus, stronger, euro, drowns, out, ecb, s, message, to, keep, rates, low, for]|[ecb, focus, stronger, euro, drowns, ecb, message, keep, rates, low]           |\n",
      "|[eu, aims, for, deal, on, tackling, failing, banks]                                  |[eu, aims, deal, tackling, failing, banks]                                     |\n",
      "|[forex, pound, drops, to, one, month, lows, against, euro]                           |[forex, pound, drops, one, month, lows, euro]                                  |\n",
      "|[noyer, says, strong, euro, creates, unwarranted, economic, pressure]                |[noyer, says, strong, euro, creates, unwarranted, economic, pressure]          |\n",
      "|[eu, week, ahead, march, bank, resolution, transparency, ukraine]                    |[eu, week, ahead, march, bank, resolution, transparency, ukraine]              |\n",
      "|[ecb, member, noyer, is, very, open, to, all, kinds, of, tools]                      |[ecb, member, noyer, open, kinds, tools]                                       |\n",
      "|[euro, anxieties, wane, as, bunds, top, treasuries, spain, debt, rallies]            |[euro, anxieties, wane, bunds, top, treasuries, spain, debt, rallies]          |\n",
      "+-------------------------------------------------------------------------------------+-------------------------------------------------------------------------------+\n",
      "only showing top 20 rows\n",
      "\n"
     ]
    }
   ],
   "source": [
    "# Removing Stopwords\n",
    "from pyspark.ml.feature import StopWordsRemover\n",
    "remover = StopWordsRemover(inputCol=\"words\", outputCol=\"filtered\")\n",
    "words_df = remover.transform(raw_words)\n",
    "words_df.select(\"words\",\"filtered\").show(truncate=False)"
   ]
  },
  {
   "cell_type": "code",
   "execution_count": 21,
   "id": "bb50837c",
   "metadata": {
    "execution": {
     "iopub.execute_input": "2022-08-02T10:55:36.438786Z",
     "iopub.status.busy": "2022-08-02T10:55:36.438275Z",
     "iopub.status.idle": "2022-08-02T10:55:38.495994Z",
     "shell.execute_reply": "2022-08-02T10:55:38.494530Z"
    },
    "papermill": {
     "duration": 2.110684,
     "end_time": "2022-08-02T10:55:38.501718",
     "exception": false,
     "start_time": "2022-08-02T10:55:36.391034",
     "status": "completed"
    },
    "tags": []
   },
   "outputs": [
    {
     "name": "stderr",
     "output_type": "stream",
     "text": [
      "                                                                                \r"
     ]
    },
    {
     "name": "stdout",
     "output_type": "stream",
     "text": [
      "+--------+-------------+\n",
      "|CATEGORY|categoryIndex|\n",
      "+--------+-------------+\n",
      "|       b|          1.0|\n",
      "|       b|          1.0|\n",
      "|       b|          1.0|\n",
      "|       b|          1.0|\n",
      "|       b|          1.0|\n",
      "|       b|          1.0|\n",
      "|       b|          1.0|\n",
      "|       b|          1.0|\n",
      "|       b|          1.0|\n",
      "|       b|          1.0|\n",
      "|       b|          1.0|\n",
      "|       b|          1.0|\n",
      "|       b|          1.0|\n",
      "|       b|          1.0|\n",
      "|       b|          1.0|\n",
      "|       b|          1.0|\n",
      "|       b|          1.0|\n",
      "|       b|          1.0|\n",
      "|       b|          1.0|\n",
      "|       b|          1.0|\n",
      "+--------+-------------+\n",
      "only showing top 20 rows\n",
      "\n"
     ]
    }
   ],
   "source": [
    "#encode column of category to a column of category indices\n",
    "from pyspark.ml.feature import StringIndexer\n",
    "indexer = StringIndexer(inputCol=\"CATEGORY\", outputCol=\"categoryIndex\")\n",
    "feature_data = indexer.fit(words_df).transform(words_df)\n",
    "feature_data.select(\"CATEGORY\",\"categoryIndex\").show()"
   ]
  },
  {
   "cell_type": "code",
   "execution_count": 22,
   "id": "70d8a967",
   "metadata": {
    "execution": {
     "iopub.execute_input": "2022-08-02T10:55:38.657474Z",
     "iopub.status.busy": "2022-08-02T10:55:38.656944Z",
     "iopub.status.idle": "2022-08-02T10:55:47.460543Z",
     "shell.execute_reply": "2022-08-02T10:55:47.459201Z"
    },
    "papermill": {
     "duration": 8.879634,
     "end_time": "2022-08-02T10:55:47.464793",
     "exception": false,
     "start_time": "2022-08-02T10:55:38.585159",
     "status": "completed"
    },
    "tags": []
   },
   "outputs": [
    {
     "name": "stderr",
     "output_type": "stream",
     "text": [
      "                                                                                \r"
     ]
    }
   ],
   "source": [
    "#Convert text into vectors of token counts\n",
    "from pyspark.ml.feature import CountVectorizer\n",
    "cv = CountVectorizer(inputCol=\"filtered\", outputCol=\"features\")\n",
    "model = cv.fit(feature_data)\n",
    "countVectorizer_features = model.transform(feature_data)"
   ]
  },
  {
   "cell_type": "markdown",
   "id": "ad5a10ef",
   "metadata": {
    "papermill": {
     "duration": 0.037807,
     "end_time": "2022-08-02T10:55:47.543241",
     "exception": false,
     "start_time": "2022-08-02T10:55:47.505434",
     "status": "completed"
    },
    "tags": []
   },
   "source": [
    "# **Modelling**"
   ]
  },
  {
   "cell_type": "code",
   "execution_count": 23,
   "id": "2b93abc8",
   "metadata": {
    "execution": {
     "iopub.execute_input": "2022-08-02T10:55:47.622145Z",
     "iopub.status.busy": "2022-08-02T10:55:47.621754Z",
     "iopub.status.idle": "2022-08-02T10:55:47.651036Z",
     "shell.execute_reply": "2022-08-02T10:55:47.650023Z"
    },
    "papermill": {
     "duration": 0.072223,
     "end_time": "2022-08-02T10:55:47.653900",
     "exception": false,
     "start_time": "2022-08-02T10:55:47.581677",
     "status": "completed"
    },
    "tags": []
   },
   "outputs": [],
   "source": [
    "#Create our Training & Test datasets\n",
    "(trainingData, testData) = countVectorizer_features.randomSplit([0.8, 0.2],seed = 11)"
   ]
  },
  {
   "cell_type": "code",
   "execution_count": 24,
   "id": "4b42270e",
   "metadata": {
    "execution": {
     "iopub.execute_input": "2022-08-02T10:55:47.732520Z",
     "iopub.status.busy": "2022-08-02T10:55:47.732074Z",
     "iopub.status.idle": "2022-08-02T10:56:04.462788Z",
     "shell.execute_reply": "2022-08-02T10:56:04.461350Z"
    },
    "papermill": {
     "duration": 16.774222,
     "end_time": "2022-08-02T10:56:04.466764",
     "exception": false,
     "start_time": "2022-08-02T10:55:47.692542",
     "status": "completed"
    },
    "tags": []
   },
   "outputs": [
    {
     "name": "stderr",
     "output_type": "stream",
     "text": [
      "                                                                                \r"
     ]
    }
   ],
   "source": [
    "# train the model\n",
    "from pyspark.ml.classification import NaiveBayes\n",
    "nb = NaiveBayes(modelType=\"multinomial\",labelCol=\"categoryIndex\", featuresCol=\"features\")\n",
    "nbModel = nb.fit(trainingData)\n",
    "nb_predictions = nbModel.transform(testData)"
   ]
  },
  {
   "cell_type": "code",
   "execution_count": 25,
   "id": "fc855976",
   "metadata": {
    "execution": {
     "iopub.execute_input": "2022-08-02T10:56:04.546395Z",
     "iopub.status.busy": "2022-08-02T10:56:04.546007Z",
     "iopub.status.idle": "2022-08-02T10:56:08.750411Z",
     "shell.execute_reply": "2022-08-02T10:56:08.748963Z"
    },
    "papermill": {
     "duration": 4.248065,
     "end_time": "2022-08-02T10:56:08.753930",
     "exception": false,
     "start_time": "2022-08-02T10:56:04.505865",
     "status": "completed"
    },
    "tags": []
   },
   "outputs": [
    {
     "name": "stdout",
     "output_type": "stream",
     "text": [
      "22/08/02 10:56:05 WARN DAGScheduler: Broadcasting large task binary with size 84.4 MiB\n"
     ]
    },
    {
     "name": "stderr",
     "output_type": "stream",
     "text": [
      "[Stage 48:>                                                         (0 + 1) / 1]\r"
     ]
    },
    {
     "name": "stdout",
     "output_type": "stream",
     "text": [
      "+----------+-------------+--------------------+\n",
      "|prediction|categoryIndex|            features|\n",
      "+----------+-------------+--------------------+\n",
      "|       0.0|          0.0|(49043,[21,50,111...|\n",
      "|       0.0|          0.0|(49043,[20,21,22,...|\n",
      "|       0.0|          0.0|(49043,[31,504,77...|\n",
      "|       0.0|          0.0|(49043,[184,226,9...|\n",
      "|       0.0|          0.0|(49043,[345,511,7...|\n",
      "+----------+-------------+--------------------+\n",
      "only showing top 5 rows\n",
      "\n"
     ]
    },
    {
     "name": "stderr",
     "output_type": "stream",
     "text": [
      "                                                                                \r"
     ]
    }
   ],
   "source": [
    "nb_predictions.select(\"prediction\", \"categoryIndex\", \"features\").show(5)"
   ]
  },
  {
   "cell_type": "code",
   "execution_count": 26,
   "id": "ab3b1dae",
   "metadata": {
    "execution": {
     "iopub.execute_input": "2022-08-02T10:56:08.848126Z",
     "iopub.status.busy": "2022-08-02T10:56:08.847734Z",
     "iopub.status.idle": "2022-08-02T10:56:19.773203Z",
     "shell.execute_reply": "2022-08-02T10:56:19.769777Z"
    },
    "papermill": {
     "duration": 10.970185,
     "end_time": "2022-08-02T10:56:19.777344",
     "exception": false,
     "start_time": "2022-08-02T10:56:08.807159",
     "status": "completed"
    },
    "tags": []
   },
   "outputs": [
    {
     "name": "stdout",
     "output_type": "stream",
     "text": [
      "22/08/02 10:56:09 WARN DAGScheduler: Broadcasting large task binary with size 84.4 MiB\n"
     ]
    },
    {
     "name": "stderr",
     "output_type": "stream",
     "text": [
      "[Stage 49:===========================================>              (3 + 1) / 4]\r"
     ]
    },
    {
     "name": "stdout",
     "output_type": "stream",
     "text": [
      "Accuracy of NaiveBayes is = 0.925795\n",
      "Test Error of NaiveBayes = 0.0742047 \n"
     ]
    },
    {
     "name": "stderr",
     "output_type": "stream",
     "text": [
      "                                                                                \r"
     ]
    }
   ],
   "source": [
    "# Evaluate the performance\n",
    "from pyspark.ml.evaluation import MulticlassClassificationEvaluator\n",
    "evaluator = MulticlassClassificationEvaluator(labelCol=\"categoryIndex\", predictionCol=\"prediction\", metricName=\"accuracy\")\n",
    "nb_accuracy = evaluator.evaluate(nb_predictions)\n",
    "print(\"Accuracy of NaiveBayes is = %g\"% (nb_accuracy))\n",
    "print(\"Test Error of NaiveBayes = %g \" % (1.0 - nb_accuracy))"
   ]
  }
 ],
 "metadata": {
  "kernelspec": {
   "display_name": "Python 3",
   "language": "python",
   "name": "python3"
  },
  "language_info": {
   "codemirror_mode": {
    "name": "ipython",
    "version": 3
   },
   "file_extension": ".py",
   "mimetype": "text/x-python",
   "name": "python",
   "nbconvert_exporter": "python",
   "pygments_lexer": "ipython3",
   "version": "3.7.12"
  },
  "papermill": {
   "default_parameters": {},
   "duration": 182.012616,
   "end_time": "2022-08-02T10:56:22.474006",
   "environment_variables": {},
   "exception": null,
   "input_path": "__notebook__.ipynb",
   "output_path": "__notebook__.ipynb",
   "parameters": {},
   "start_time": "2022-08-02T10:53:20.461390",
   "version": "2.3.4"
  }
 },
 "nbformat": 4,
 "nbformat_minor": 5
}
